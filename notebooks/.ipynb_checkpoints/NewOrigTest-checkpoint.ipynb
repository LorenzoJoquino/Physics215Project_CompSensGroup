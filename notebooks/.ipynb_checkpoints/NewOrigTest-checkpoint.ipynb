{
 "cells": [
  {
   "cell_type": "code",
   "execution_count": 1,
   "id": "ebd42055-f823-4bc3-a05d-0f05ea059de8",
   "metadata": {},
   "outputs": [],
   "source": [
    "import numpy as np\n",
    "import matplotlib.pyplot as plt\n",
    "import os\n",
    "import sys\n",
    "from scipy.fftpack import dct, idct\n",
    "from scipy.optimize import minimize\n",
    "sys.path.append(os.path.join('..'))\n",
    "from physics215ProjectCode import cosamp_fn\n",
    "\n",
    "\n",
    "plt.rcParams['figure.figsize'] = [12, 12]\n",
    "plt.rcParams.update({'font.size': 18})"
   ]
  },
  {
   "cell_type": "code",
   "execution_count": 5,
   "id": "8d6a2270-6902-4165-bfc6-3922008b19ea",
   "metadata": {},
   "outputs": [],
   "source": [
    "def constructSyntheticSignal(n, f_a_orig, t_end=1):\n",
    "    '''\n",
    "    constructs a sine wave signal \n",
    "    n = number of data points to construct original signal\n",
    "    if f_a_orig is 'int':\n",
    "        wave of frequency f_a_orig has amplitude 1 \n",
    "    if f_a_orig is 'list':\n",
    "        wave of frequencies in f_a_orig will all have amplitude 1\n",
    "    if f_a_orig is 'dict':\n",
    "        wave of frequencies in the keys with value being the corresponding amplitude\n",
    "        Ex. constructSyntheticSignal(4096, {3:1, 15:2}, t_end=1) #constructs 4096 sample points of \n",
    "        wave of frequency 3 with amplitude 1 and freq 15 with amp 2\n",
    "\n",
    "    set t_end to 1 so that n is the sampling frequency\n",
    "    '''\n",
    "    if type(f_a_orig).__name__ == \"int\":\n",
    "        t = np.linspace(0,t_end,n)\n",
    "        x = np.cos(2 * f_a_orig * np.pi * t)\n",
    "        xt = np.fft.fft(x) # Fourier transformed signal\n",
    "        PSD = xt * np.conj(xt) / n # Power spectral density\n",
    "\n",
    "        return x, PSD, t\n",
    "\n",
    "    elif type(f_a_orig).__name__ == \"list\":\n",
    "        x = 0\n",
    "        t = np.linspace(0,t_end,n)\n",
    "        for f in f_a_orig:\n",
    "            x += np.cos(2 * f * np.pi * t)\n",
    "            xt = np.fft.fft(x) # Fourier transformed signal\n",
    "            PSD = xt * np.conj(xt) / n # Power spectral density\n",
    "\n",
    "        return x, PSD, t\n",
    "\n",
    "    elif type(f_a_orig).__name__ == \"dict\":\n",
    "        x = 0\n",
    "        t = np.linspace(0,t_end,n)\n",
    "        for f in f_a_orig:\n",
    "            x += f_a_orig[f]*np.cos(2 * f * np.pi * t)\n",
    "            xt = np.fft.fft(x) # Fourier transformed signal\n",
    "            PSD = xt * np.conj(xt) / n # Power spectral density\n",
    "\n",
    "        return x, PSD, t\n"
   ]
  },
  {
   "cell_type": "raw",
   "id": "1298e8e6-136c-4611-be48-4629f9d83a94",
   "metadata": {},
   "source": [
    "#Demonstraction\n",
    "x_orig, PSD_orig, t = constructSyntheticSignal(4096, 4, t_end=1)\n",
    "plt.plot(t, x_orig)\n",
    "plt.show()\n",
    "\n",
    "x_orig, PSD_orig, t = constructSyntheticSignal(4096, [4,2,1], t_end=1)\n",
    "plt.plot(t, x_orig)\n",
    "plt.show()\n",
    "\n",
    "\n",
    "plt.plot(t, x_orig)\n",
    "plt.show()"
   ]
  },
  {
   "cell_type": "code",
   "execution_count": 10,
   "id": "a94110a5-e4fb-4c5a-a37a-f4d7f4d9ed70",
   "metadata": {},
   "outputs": [
    {
     "data": {
      "text/plain": [
       "array([   0,   20,   41,   61,   82,  102,  123,  144,  164,  185,  205,\n",
       "        226,  246,  267,  288,  308,  329,  349,  370,  391,  411,  432,\n",
       "        452,  473,  493,  514,  535,  555,  576,  596,  617,  638,  658,\n",
       "        679,  699,  720,  740,  761,  782,  802,  823,  843,  864,  885,\n",
       "        905,  926,  946,  967,  987, 1008, 1029, 1049, 1070, 1090, 1111,\n",
       "       1132, 1152, 1173, 1193, 1214, 1234, 1255, 1276, 1296, 1317, 1337,\n",
       "       1358, 1379, 1399, 1420, 1440, 1461, 1481, 1502, 1523, 1543, 1564,\n",
       "       1584, 1605, 1626, 1646, 1667, 1687, 1708, 1728, 1749, 1770, 1790,\n",
       "       1811, 1831, 1852, 1873, 1893, 1914, 1934, 1955, 1975, 1996, 2017,\n",
       "       2037, 2058, 2078, 2099, 2120, 2140, 2161, 2181, 2202, 2222, 2243,\n",
       "       2264, 2284, 2305, 2325, 2346, 2367, 2387, 2408, 2428, 2449, 2469,\n",
       "       2490, 2511, 2531, 2552, 2572, 2593, 2614, 2634, 2655, 2675, 2696,\n",
       "       2716, 2737, 2758, 2778, 2799, 2819, 2840, 2861, 2881, 2902, 2922,\n",
       "       2943, 2963, 2984, 3005, 3025, 3046, 3066, 3087, 3108, 3128, 3149,\n",
       "       3169, 3190, 3210, 3231, 3252, 3272, 3293, 3313, 3334, 3355, 3375,\n",
       "       3396, 3416, 3437, 3457, 3478, 3499, 3519, 3540, 3560, 3581, 3602,\n",
       "       3622, 3643, 3663, 3684, 3704, 3725, 3746, 3766, 3787, 3807, 3828,\n",
       "       3849, 3869, 3890, 3910, 3931, 3951, 3972, 3993, 4013, 4034, 4054,\n",
       "       4075, 4096])"
      ]
     },
     "execution_count": 10,
     "metadata": {},
     "output_type": "execute_result"
    }
   ],
   "source": []
  },
  {
   "cell_type": "code",
   "execution_count": 6,
   "id": "1272ae07-746f-4825-9c34-b114b273d72c",
   "metadata": {},
   "outputs": [],
   "source": [
    "def reconstructSignal_dct(x, p, sparsity=10, epsilon=1.e-10,max_iter=10):\n",
    "    '''\n",
    "    x - original signal\n",
    "    p - number of points to sample from the original signal\n",
    "    \n",
    "    implements signal reconstruction by Steve Brunton (Data Driven Science and Engineering)\n",
    "    uses discrete cosine transform as basis function \n",
    "    '''\n",
    "\n",
    "    n = len(x)\n",
    "    perm = np.floor(np.random.rand(p) * n).astype(int)\n",
    "    y = x[perm]\n",
    "    ## Solve compressed sensing problem\n",
    "    Psi = dct(np.identity(n)) # Build Psi\n",
    "    Theta = Psi[perm,:]       # Measure rows of Psi\n",
    "    \n",
    "    s = cosamp_fn.cosamp(Theta,y,sparsity,epsilon=1.e-10,max_iter=10) # CS via matching pursuit\n",
    "    xrecon = idct(s) # reconstruct full signal\n",
    "\n",
    "    PSD = xrecon * np.conj(xrecon) / n # Power spectral density\n",
    "\n",
    "    return xrecon, PSD\n",
    "\n",
    "\n",
    "def reconstructSignal_UniformSpacedSamples_dct(x, p, sparsity=10, epsilon=1.e-10,max_iter=10):\n",
    "    '''\n",
    "    x - original signal\n",
    "    p - number of points to sample from the original signal\n",
    "    \n",
    "    implements signal reconstruction by sampling points at uniform spacing \n",
    "    (in this case, for accurate reconstruction, the sampling frequency must be 2 times the signal frequency)\n",
    "    uses discrete cosine transform as basis function \n",
    "    '''\n",
    "\n",
    "    n = len(x)\n",
    "    perm = np.floor(np.random.rand(p) * n).astype(int)\n",
    "    y = x[perm]\n",
    "    ## Solve compressed sensing problem\n",
    "    Psi = dct(np.identity(n)) # Build Psi\n",
    "    Theta = Psi[perm,:]       # Measure rows of Psi\n",
    "    \n",
    "    s = cosamp_fn.cosamp(Theta,y,sparsity,epsilon=1.e-10,max_iter=10) # CS via matching pursuit\n",
    "    xrecon = idct(s) # reconstruct full signal\n",
    "\n",
    "    PSD = xrecon * np.conj(xrecon) / n # Power spectral density\n",
    "\n",
    "    return xrecon, PSD\n",
    "    "
   ]
  },
  {
   "cell_type": "markdown",
   "id": "c95ef355-f0c7-4853-a6da-6ff6d3a3b9d6",
   "metadata": {},
   "source": [
    "### Testing (Single Wave)"
   ]
  },
  {
   "cell_type": "code",
   "execution_count": 7,
   "id": "fe58f5b4-7468-44bb-b0fe-d306c9c2351d",
   "metadata": {},
   "outputs": [
    {
     "name": "stdout",
     "output_type": "stream",
     "text": [
      "Iteration 11\r"
     ]
    }
   ],
   "source": [
    "n = 4096 # points in high resolution signal\n",
    "f_orig = 200\n",
    "t_final = 1\n",
    "t_start = 0\n",
    "p_array = 400/2**np.arange(5)\n",
    "p = 230 # num. random samples, p = n/32\n",
    "\n",
    "\n",
    "x, PSD_orig, t = constructSyntheticSignal(n, f_orig, t_final)\n",
    "x_recon, PSD_recon = reconstructSignal_dct(x, p)"
   ]
  },
  {
   "cell_type": "markdown",
   "id": "64d4feb3-e7b2-44c7-8b6a-06c3890d2b1a",
   "metadata": {},
   "source": [
    "### Plotting"
   ]
  },
  {
   "cell_type": "code",
   "execution_count": null,
   "id": "962cf95a-727c-4f03-b97e-005f09d471ac",
   "metadata": {},
   "outputs": [],
   "source": [
    "fig,axs = plt.subplots(2,2)\n",
    "axs = axs.reshape(-1)\n",
    "\n",
    "axs[1].plot(freq[:L],PSD[:L],color='k',linewidth=2)\n",
    "axs[1].set_xlim(0, 1024)\n",
    "axs[1].set_ylim(0, 1200)\n",
    "\n",
    "axs[0].plot(t,x,color='k',linewidth=2)\n",
    "axs[0].plot(perm/n,y,color='r',marker='x',linewidth=0,ms=12,mew=4)\n",
    "axs[0].set_xlim(time_window[0],time_window[1])\n",
    "axs[0].set_ylim(-2, 2)\n",
    "\n",
    "axs[2].plot(t,xrecon,color='r',linewidth=2)\n",
    "axs[2].set_xlim(time_window[0],time_window[1])\n",
    "axs[2].set_ylim(-2, 2)\n",
    "\n",
    "xtrecon = np.fft.fft(xrecon,n) # computes the (fast) discrete fourier transform\n",
    "PSDrecon = xtrecon * np.conj(xtrecon)/n # Power spectrum (how much power in each freq)\n",
    "\n",
    "axs[3].plot(freq[:L],PSDrecon[:L],color='r',linewidth=2)\n",
    "axs[3].set_xlim(0, 1024)\n",
    "axs[3].set_ylim(0, 1200)\n",
    "\n",
    "plt.show()"
   ]
  },
  {
   "cell_type": "code",
   "execution_count": null,
   "id": "c79df7e8-ad36-45fe-8484-4dae7e30a577",
   "metadata": {},
   "outputs": [],
   "source": []
  }
 ],
 "metadata": {
  "kernelspec": {
   "display_name": "Python [conda env:V2Phys215Project]",
   "language": "python",
   "name": "conda-env-V2Phys215Project-py"
  },
  "language_info": {
   "codemirror_mode": {
    "name": "ipython",
    "version": 3
   },
   "file_extension": ".py",
   "mimetype": "text/x-python",
   "name": "python",
   "nbconvert_exporter": "python",
   "pygments_lexer": "ipython3",
   "version": "3.9.21"
  }
 },
 "nbformat": 4,
 "nbformat_minor": 5
}
