{
 "cells": [
  {
   "cell_type": "code",
   "execution_count": 1,
   "id": "ebd42055-f823-4bc3-a05d-0f05ea059de8",
   "metadata": {},
   "outputs": [],
   "source": [
    "import numpy as np\n",
    "import matplotlib.pyplot as plt\n",
    "import os\n",
    "import sys\n",
    "from scipy.fftpack import dct, idct\n",
    "from scipy.optimize import minimize\n",
    "sys.path.append(os.path.join('..'))\n",
    "from physics215ProjectCode import cosamp_fn\n",
    "\n",
    "\n",
    "plt.rcParams['figure.figsize'] = [12, 12]\n",
    "plt.rcParams.update({'font.size': 18})"
   ]
  },
  {
   "cell_type": "code",
   "execution_count": 2,
   "id": "8d6a2270-6902-4165-bfc6-3922008b19ea",
   "metadata": {},
   "outputs": [],
   "source": [
    "def constructSyntheticSignal(n, f_a_orig, t_end=1):\n",
    "    '''\n",
    "    constructs a sine wave signal \n",
    "    n = number of data points to construct original signal\n",
    "    if f_a_orig is 'int':\n",
    "        wave of frequency f_a_orig has amplitude 1 \n",
    "    if f_a_orig is 'list':\n",
    "        wave of frequencies in f_a_orig will all have amplitude 1\n",
    "    if f_a_orig is 'dict':\n",
    "        wave of frequencies in the keys with value being the corresponding amplitude\n",
    "        Ex. constructSyntheticSignal(4096, {3:1, 15:2}, t_end=1) #constructs 4096 sample points of \n",
    "        wave of frequency 3 with amplitude 1 and freq 15 with amp 2\n",
    "\n",
    "    set t_end to 1 so that n is the sampling frequency\n",
    "    '''\n",
    "    if type(f_a_orig).__name__ == \"int\":\n",
    "        t = np.linspace(0,t_end,n)\n",
    "        x = np.cos(2 * f_a_orig * np.pi * t)\n",
    "        xt = np.fft.fft(x) # Fourier transformed signal\n",
    "        PSD = xt * np.conj(xt) / n # Power spectral density\n",
    "\n",
    "        return x, PSD, t\n",
    "\n",
    "    elif type(f_a_orig).__name__ == \"list\":\n",
    "        x = 0\n",
    "        t = np.linspace(0,t_end,n)\n",
    "        for f in f_a_orig:\n",
    "            x += np.cos(2 * f * np.pi * t)\n",
    "            xt = np.fft.fft(x) # Fourier transformed signal\n",
    "            PSD = xt * np.conj(xt) / n # Power spectral density\n",
    "\n",
    "        return x, PSD, t\n",
    "\n",
    "    elif type(f_a_orig).__name__ == \"dict\":\n",
    "        x = 0\n",
    "        t = np.linspace(0,t_end,n)\n",
    "        for f in f_a_orig:\n",
    "            x += f_a_orig[f]*np.cos(2 * f * np.pi * t)\n",
    "            xt = np.fft.fft(x) # Fourier transformed signal\n",
    "            PSD = xt * np.conj(xt) / n # Power spectral density\n",
    "\n",
    "        return x, PSD, t\n"
   ]
  },
  {
   "cell_type": "raw",
   "id": "1298e8e6-136c-4611-be48-4629f9d83a94",
   "metadata": {},
   "source": [
    "#Demonstraction\n",
    "x_orig, PSD_orig, t = constructSyntheticSignal(4096, 4, t_end=1)\n",
    "plt.plot(t, x_orig)\n",
    "plt.show()\n",
    "\n",
    "x_orig, PSD_orig, t = constructSyntheticSignal(4096, [4,2,1], t_end=1)\n",
    "plt.plot(t, x_orig)\n",
    "plt.show()\n",
    "\n",
    "\n",
    "plt.plot(t, x_orig)\n",
    "plt.show()"
   ]
  },
  {
   "cell_type": "code",
   "execution_count": 3,
   "id": "1272ae07-746f-4825-9c34-b114b273d72c",
   "metadata": {},
   "outputs": [],
   "source": [
    "def reconstructSignal_dct(x, p, sparsity=10, epsilon=1.e-10,max_iter=10):\n",
    "    '''\n",
    "    x - original signal\n",
    "    p - number of points to sample from the original signal\n",
    "    \n",
    "    implements signal reconstruction by Steve Brunton (Data Driven Science and Engineering)\n",
    "    uses discrete cosine transform as basis function \n",
    "    '''\n",
    "\n",
    "    n = len(x)\n",
    "    perm = np.floor(np.random.rand(p) * n).astype(int)\n",
    "    y = x[perm]\n",
    "    ## Solve compressed sensing problem\n",
    "    Psi = dct(np.identity(n)) # Build Psi\n",
    "    Theta = Psi[perm,:]       # Measure rows of Psi\n",
    "    \n",
    "    s = cosamp_fn.cosamp(Theta,y,sparsity,epsilon=1.e-10,max_iter=10) # CS via matching pursuit\n",
    "    xrecon = idct(s) # reconstruct full signal\n",
    "\n",
    "    PSD = xrecon * np.conj(xrecon) / n # Power spectral density\n",
    "\n",
    "    return xrecon, PSD\n",
    "\n",
    "\n",
    "def reconstructSignal_UniformSpacedSamples_dct(x, p, sparsity=10, epsilon=1.e-10,max_iter=10):\n",
    "    '''\n",
    "    x - original signal\n",
    "    p - number of points to sample from the original signal\n",
    "    \n",
    "    implements signal reconstruction by sampling points at uniform spacing \n",
    "    (in this case, for accurate reconstruction, the sampling frequency must be 2 times the signal frequency)\n",
    "    uses discrete cosine transform as basis function \n",
    "    '''\n",
    "\n",
    "    n = len(x)\n",
    "    perm = np.linspace(0, n-1, p).astype(int)\n",
    "    y = x[perm]\n",
    "    ## Solve compressed sensing problem\n",
    "    Psi = dct(np.identity(n)) # Build Psi\n",
    "    Theta = Psi[perm,:]       # Measure rows of Psi\n",
    "    \n",
    "    s = cosamp_fn.cosamp(Theta,y,sparsity,epsilon=1.e-10,max_iter=10) # CS via matching pursuit\n",
    "    xrecon = idct(s) # reconstruct full signal\n",
    "\n",
    "    PSD = xrecon * np.conj(xrecon) / n # Power spectral density\n",
    "\n",
    "    return xrecon, PSD\n",
    "    "
   ]
  },
  {
   "cell_type": "markdown",
   "id": "c95ef355-f0c7-4853-a6da-6ff6d3a3b9d6",
   "metadata": {},
   "source": [
    "### Testing (Single Wave)"
   ]
  },
  {
   "cell_type": "code",
   "execution_count": 4,
   "id": "fe58f5b4-7468-44bb-b0fe-d306c9c2351d",
   "metadata": {},
   "outputs": [
    {
     "name": "stdout",
     "output_type": "stream",
     "text": [
      "Iteration 11\r"
     ]
    }
   ],
   "source": [
    "n = 4096 # points in high resolution signal\n",
    "f_orig = 200\n",
    "t_final = 1\n",
    "t_start = 0\n",
    "p_array = 400/2**np.arange(5)\n",
    "p = 230 # num. random samples, p = n/32\n",
    "\n",
    "\n",
    "x, PSD_orig, t = constructSyntheticSignal(n, f_orig, t_final)\n",
    "x_recon, PSD_recon = reconstructSignal_dct(x, p)\n",
    "x_recon_uni, PSD_recon_uni = reconstructSignal_UniformSpacedSamples_dct(x, p)"
   ]
  },
  {
   "cell_type": "markdown",
   "id": "64d4feb3-e7b2-44c7-8b6a-06c3890d2b1a",
   "metadata": {},
   "source": [
    "### Plotting"
   ]
  },
  {
   "cell_type": "code",
   "execution_count": 5,
   "id": "962cf95a-727c-4f03-b97e-005f09d471ac",
   "metadata": {},
   "outputs": [
    {
     "ename": "NameError",
     "evalue": "name 'freq' is not defined",
     "output_type": "error",
     "traceback": [
      "\u001b[0;31m---------------------------------------------------------------------------\u001b[0m",
      "\u001b[0;31mNameError\u001b[0m                                 Traceback (most recent call last)",
      "Cell \u001b[0;32mIn[5], line 8\u001b[0m\n\u001b[1;32m      5\u001b[0m xlim_r \u001b[38;5;241m=\u001b[39m \u001b[38;5;241m1024\u001b[39m\n\u001b[1;32m      6\u001b[0m ylim_u \u001b[38;5;241m=\u001b[39m \u001b[38;5;241m1200\u001b[39m\n\u001b[0;32m----> 8\u001b[0m axs[\u001b[38;5;241m1\u001b[39m]\u001b[38;5;241m.\u001b[39mplot(\u001b[43mfreq\u001b[49m[:L],PSD[:L],color\u001b[38;5;241m=\u001b[39m\u001b[38;5;124m'\u001b[39m\u001b[38;5;124mk\u001b[39m\u001b[38;5;124m'\u001b[39m,linewidth\u001b[38;5;241m=\u001b[39m\u001b[38;5;241m2\u001b[39m)\n\u001b[1;32m      9\u001b[0m axs[\u001b[38;5;241m1\u001b[39m]\u001b[38;5;241m.\u001b[39mset_xlim(\u001b[38;5;241m0\u001b[39m, xlim_r)\n\u001b[1;32m     10\u001b[0m axs[\u001b[38;5;241m1\u001b[39m]\u001b[38;5;241m.\u001b[39mset_ylim(\u001b[38;5;241m0\u001b[39m, ylim_u)\n",
      "\u001b[0;31mNameError\u001b[0m: name 'freq' is not defined"
     ]
    },
    {
     "data": {
      "image/png": "[encoded data removed]",
      "text/plain": [
       "<Figure size 1200x1200 with 4 Axes>"
      ]
     },
     "metadata": {},
     "output_type": "display_data"
    }
   ],
   "source": [
    "timeWindow = [2000, 3000]\n",
    "\n",
    "fig,axs = plt.subplots(2,2)\n",
    "axs = axs.reshape(-1)\n",
    "xlim_r = 1024\n",
    "ylim_u = 1200\n",
    "\n",
    "axs[1].plot(freq[:L],PSD[:L],color='k',linewidth=2)\n",
    "axs[1].set_xlim(0, xlim_r)\n",
    "axs[1].set_ylim(0, ylim_u)\n",
    "\n",
    "axs[0].plot(t,x,color='k',linewidth=2)\n",
    "axs[0].plot(perm/n,y,color='r',marker='x',linewidth=0,ms=12,mew=4)\n",
    "axs[0].set_xlim(time_window[0],time_window[1])\n",
    "axs[0].set_ylim(-2, 2)\n",
    "\n",
    "axs[2].plot(t,xrecon,color='r',linewidth=2)\n",
    "axs[2].set_xlim(time_window[0],time_window[1])\n",
    "axs[2].set_ylim(-2, 2)\n",
    "\n",
    "xtrecon = np.fft.fft(xrecon,n) # computes the (fast) discrete fourier transform\n",
    "PSDrecon = xtrecon * np.conj(xtrecon)/n # Power spectrum (how much power in each freq)\n",
    "\n",
    "axs[3].plot(freq[:L],PSDrecon[:L],color='r',linewidth=2)\n",
    "axs[3].set_xlim(0, xlim_r)\n",
    "axs[3].set_ylim(0, ylim_u)\n",
    "\n",
    "plt.show()"
   ]
  },
  {
   "cell_type": "code",
   "execution_count": null,
   "id": "c79df7e8-ad36-45fe-8484-4dae7e30a577",
   "metadata": {},
   "outputs": [],
   "source": []
  }
 ],
 "metadata": {
  "kernelspec": {
   "display_name": "V2Phys215Project",
   "language": "python",
   "name": "python3"
  },
  "language_info": {
   "codemirror_mode": {
    "name": "ipython",
    "version": 3
   },
   "file_extension": ".py",
   "mimetype": "text/x-python",
   "name": "python",
   "nbconvert_exporter": "python",
   "pygments_lexer": "ipython3",
   "version": "3.9.21"
  }
 },
 "nbformat": 4,
 "nbformat_minor": 5
}
